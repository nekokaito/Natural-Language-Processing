{
  "nbformat": 4,
  "nbformat_minor": 0,
  "metadata": {
    "colab": {
      "provenance": []
    },
    "kernelspec": {
      "name": "python3",
      "display_name": "Python 3"
    },
    "language_info": {
      "name": "python"
    }
  },
  "cells": [
    {
      "cell_type": "code",
      "execution_count": null,
      "metadata": {
        "colab": {
          "base_uri": "https://localhost:8080/"
        },
        "id": "YmCMtrLR6CcJ",
        "outputId": "f72e09fa-41de-440f-8cc6-e9cfef56988c"
      },
      "outputs": [
        {
          "output_type": "stream",
          "name": "stdout",
          "text": [
            "3\n",
            "Ineligible\n"
          ]
        }
      ],
      "source": [
        "age = int(input())\n",
        "print(\"Eligible\" if age > 18 else \"Ineligible\")\n"
      ]
    },
    {
      "cell_type": "code",
      "source": [
        "name = input(\"Enter your name: \")\n",
        "user_id = input(\"Enter your ID\")\n",
        "print(f'Welcome \"{name}\" in the Compiler lab')"
      ],
      "metadata": {
        "colab": {
          "base_uri": "https://localhost:8080/"
        },
        "id": "AiU3vU8S6Xe7",
        "outputId": "f1dcea71-1acd-4079-d58d-15db842eaf87"
      },
      "execution_count": null,
      "outputs": [
        {
          "output_type": "stream",
          "name": "stdout",
          "text": [
            "Enter your name: Abubakar Siddiq Sazzad\n",
            "Enter your ID222010058\n",
            "Welcome \"Abubakar Siddiq Sazzad\" in the Compiler lab\n"
          ]
        }
      ]
    },
    {
      "cell_type": "code",
      "source": [
        "a = \"admin123\"\n",
        "password = input(\"Enter password: \")\n",
        "if password == a:\n",
        "    print(\"Password is correct\")\n",
        "else:\n",
        "    print(\"Incorrect password\")"
      ],
      "metadata": {
        "colab": {
          "base_uri": "https://localhost:8080/"
        },
        "id": "13TrkGUW6kCo",
        "outputId": "12b4c3b3-d8a1-477c-f488-6d145fca6852"
      },
      "execution_count": null,
      "outputs": [
        {
          "output_type": "stream",
          "name": "stdout",
          "text": [
            "Enter password: admin123\n",
            "Password is correct\n"
          ]
        }
      ]
    },
    {
      "cell_type": "code",
      "source": [
        "flowers = [\"rose\", \"lily\", \"lotus\"]\n",
        "print(\"Second item:\", flowers[1])\n",
        "for flower in flowers:\n",
        "    print(f\"Flower type: {flower}\")"
      ],
      "metadata": {
        "colab": {
          "base_uri": "https://localhost:8080/"
        },
        "id": "9OWl0ngA65-U",
        "outputId": "d80fb0a8-8730-4cfd-e635-1414d8a86dc0"
      },
      "execution_count": null,
      "outputs": [
        {
          "output_type": "stream",
          "name": "stdout",
          "text": [
            "Second item: lily\n",
            "Flower type: rose\n",
            "Flower type: lily\n",
            "Flower type: lotus\n"
          ]
        }
      ]
    },
    {
      "cell_type": "code",
      "source": [
        "price = 50\n",
        "print(f\"The price of item is {price} dollars\")"
      ],
      "metadata": {
        "colab": {
          "base_uri": "https://localhost:8080/"
        },
        "id": "Asz9ydvS6_2i",
        "outputId": "c93ad11c-b426-4ab6-a536-274f1a212efe"
      },
      "execution_count": null,
      "outputs": [
        {
          "output_type": "stream",
          "name": "stdout",
          "text": [
            "The price of item is 50 dollars\n"
          ]
        }
      ]
    },
    {
      "cell_type": "code",
      "source": [
        "email = \"Scholars@ius.edu.bd\"\n",
        "domain = email.split('@')[1]\n",
        "print(\"Domain name:\", domain)"
      ],
      "metadata": {
        "colab": {
          "base_uri": "https://localhost:8080/"
        },
        "id": "oHz6-_0f7Coj",
        "outputId": "3d524f27-9834-4dca-a0af-0aefe2a07f37"
      },
      "execution_count": null,
      "outputs": [
        {
          "output_type": "stream",
          "name": "stdout",
          "text": [
            "Domain name: ius.edu.bd\n"
          ]
        }
      ]
    },
    {
      "cell_type": "code",
      "source": [
        "L1 = [1, 2, 3, 1, 2, 3, 4]\n",
        "unique = set(L1)\n",
        "print(\"Unique IDs:\", unique)"
      ],
      "metadata": {
        "colab": {
          "base_uri": "https://localhost:8080/"
        },
        "id": "nyRpO6sN7FBQ",
        "outputId": "4c295919-6489-411f-bce6-1587b7aff0d8"
      },
      "execution_count": null,
      "outputs": [
        {
          "output_type": "stream",
          "name": "stdout",
          "text": [
            "Unique IDs: {1, 2, 3, 4}\n"
          ]
        }
      ]
    },
    {
      "cell_type": "code",
      "source": [],
      "metadata": {
        "id": "6gX-qdok7kPa"
      },
      "execution_count": null,
      "outputs": []
    },
    {
      "cell_type": "code",
      "source": [
        "student = {\"name\": \"John\", \"age\": 20}\n",
        "student[\"grade\"] = \"A\"\n",
        "student[\"age\"] = 21\n",
        "print(\"Updated student info:\", student)"
      ],
      "metadata": {
        "colab": {
          "base_uri": "https://localhost:8080/"
        },
        "id": "zr9r8INo7SEZ",
        "outputId": "b76faa0f-52be-414a-cdd4-2a291572fef4"
      },
      "execution_count": null,
      "outputs": [
        {
          "output_type": "stream",
          "name": "stdout",
          "text": [
            "Updated student info: {'name': 'John', 'age': 21, 'grade': 'A'}\n"
          ]
        }
      ]
    },
    {
      "cell_type": "code",
      "source": [
        "def discount(percent=10):\n",
        "    print(f\"Discount applied: {percent}%\")\n",
        "discount()\n",
        "discount(25)"
      ],
      "metadata": {
        "colab": {
          "base_uri": "https://localhost:8080/"
        },
        "id": "-ljEFlPL7W94",
        "outputId": "1cdf2208-03fb-46c6-ba47-aec6570b4074"
      },
      "execution_count": null,
      "outputs": [
        {
          "output_type": "stream",
          "name": "stdout",
          "text": [
            "Discount applied: 10%\n",
            "Discount applied: 25%\n"
          ]
        }
      ]
    }
  ]
}